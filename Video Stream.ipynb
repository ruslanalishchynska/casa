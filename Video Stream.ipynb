{
 "cells": [
  {
   "cell_type": "markdown",
   "metadata": {},
   "source": [
    "## Manage the Video Stream"
   ]
  },
  {
   "cell_type": "code",
   "execution_count": null,
   "metadata": {},
   "outputs": [],
   "source": [
    "import cv2\n",
    "import numpy as np\n",
    "import imutils\n",
    "\n",
    "#input is the web cam\n",
    "#file_path =  0\n",
    "\n",
    "#input is a video \n",
    "file_path = \"6-057.mp4\"\n",
    "\n",
    "video_capture = cv2.VideoCapture(file_path)\n",
    "\n",
    "faccia = \"haarcascade_frontalface_default.xml\"\n",
    "\n",
    "faccia_cascade = cv2.CascadeClassifier(faccia)\n",
    "\n",
    "while(True):\n",
    "    \n",
    "    ret, frame = video_capture.read() \n",
    "    \n",
    "    \n",
    "    frame = imutils.rotate_bound(frame, 90)\n",
    "    \n",
    "    frame = imutils.resize(frame, width=512)\n",
    "\n",
    "    \n",
    "    gray = cv2.cvtColor(frame, cv2.COLOR_BGR2GRAY)\n",
    "    \n",
    "    face = faccia_cascade.detectMultiScale(gray, 1.3, 6)\n",
    "    \n",
    "    for (x,y,w,h) in face:\n",
    "        cv2.rectangle(frame, (x,y), (x+w+100 , y+h+100), (255, 0, 0), 2)\n",
    "    \n",
    "    cv2.imshow('Frame', frame)\n",
    "    \n",
    "    #cv2.imwrite(nome, image)\n",
    "    \n",
    "    if(cv2.waitKey(1) & 0xFF == ord('q')):\n",
    "        break\n",
    "video_capture.release()"
   ]
  },
  {
   "cell_type": "markdown",
   "metadata": {},
   "source": [
    "Of course the detection of the face could not be perferct and then you can tune the parameters to acquire best detection."
   ]
  }
 ],
 "metadata": {
  "kernelspec": {
   "display_name": "Python 3",
   "language": "python",
   "name": "python3"
  },
  "language_info": {
   "codemirror_mode": {
    "name": "ipython",
    "version": 3
   },
   "file_extension": ".py",
   "mimetype": "text/x-python",
   "name": "python",
   "nbconvert_exporter": "python",
   "pygments_lexer": "ipython3",
   "version": "3.6.6"
  }
 },
 "nbformat": 4,
 "nbformat_minor": 2
}
